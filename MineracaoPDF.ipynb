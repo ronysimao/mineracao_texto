{
  "nbformat": 4,
  "nbformat_minor": 0,
  "metadata": {
    "colab": {
      "provenance": [],
      "authorship_tag": "ABX9TyPCQWN6dIwwKvxm++cdbyaO",
      "include_colab_link": true
    },
    "kernelspec": {
      "name": "python3",
      "display_name": "Python 3"
    },
    "language_info": {
      "name": "python"
    }
  },
  "cells": [
    {
      "cell_type": "markdown",
      "metadata": {
        "id": "view-in-github",
        "colab_type": "text"
      },
      "source": [
        "<a href=\"https://colab.research.google.com/github/ronysimao/mineracao_texto/blob/main/MineracaoPDF.ipynb\" target=\"_parent\"><img src=\"https://colab.research.google.com/assets/colab-badge.svg\" alt=\"Open In Colab\"/></a>"
      ]
    },
    {
      "cell_type": "code",
      "execution_count": 1,
      "metadata": {
        "colab": {
          "base_uri": "https://localhost:8080/"
        },
        "id": "hcG6j2ZgVI9r",
        "outputId": "e79efd97-1675-4158-c7c3-780fe40651d0"
      },
      "outputs": [
        {
          "output_type": "stream",
          "name": "stdout",
          "text": [
            "Collecting pdfminer.six\n",
            "  Downloading pdfminer.six-20231228-py3-none-any.whl (5.6 MB)\n",
            "\u001b[2K     \u001b[90m━━━━━━━━━━━━━━━━━━━━━━━━━━━━━━━━━━━━━━━━\u001b[0m \u001b[32m5.6/5.6 MB\u001b[0m \u001b[31m14.2 MB/s\u001b[0m eta \u001b[36m0:00:00\u001b[0m\n",
            "\u001b[?25hRequirement already satisfied: charset-normalizer>=2.0.0 in /usr/local/lib/python3.10/dist-packages (from pdfminer.six) (3.3.2)\n",
            "Requirement already satisfied: cryptography>=36.0.0 in /usr/local/lib/python3.10/dist-packages (from pdfminer.six) (41.0.7)\n",
            "Requirement already satisfied: cffi>=1.12 in /usr/local/lib/python3.10/dist-packages (from cryptography>=36.0.0->pdfminer.six) (1.16.0)\n",
            "Requirement already satisfied: pycparser in /usr/local/lib/python3.10/dist-packages (from cffi>=1.12->cryptography>=36.0.0->pdfminer.six) (2.21)\n",
            "Installing collected packages: pdfminer.six\n",
            "Successfully installed pdfminer.six-20231228\n"
          ]
        }
      ],
      "source": [
        "!pip install pdfminer.six"
      ]
    },
    {
      "cell_type": "code",
      "source": [
        "import re"
      ],
      "metadata": {
        "id": "Ect8J8zSVjYM"
      },
      "execution_count": 2,
      "outputs": []
    },
    {
      "cell_type": "code",
      "source": [
        "from pdfminer.high_level import extract_text"
      ],
      "metadata": {
        "id": "WVzeYSQ1VtRp"
      },
      "execution_count": 3,
      "outputs": []
    },
    {
      "cell_type": "code",
      "source": [
        "text = extract_text(\"CertidaoJUCESP.pdf\")\n",
        "\n",
        "pattern = re.compile(r'VALOR CAPITAL (.*?)OBJETO SOCIAL')\n",
        "result = re.search(pattern, text)\n",
        "\n",
        "if result:\n",
        "    value_text = result.group(1)\n",
        "    value = float(value_text.replace('.', '').replace(',', '.'))\n",
        "    print(value)"
      ],
      "metadata": {
        "colab": {
          "base_uri": "https://localhost:8080/"
        },
        "id": "-pm-UFzHVx7R",
        "outputId": "695f34a2-bc2e-4de0-e5a9-2ad332f37a1a"
      },
      "execution_count": 4,
      "outputs": [
        {
          "output_type": "stream",
          "name": "stdout",
          "text": [
            "681400.0\n"
          ]
        }
      ]
    },
    {
      "cell_type": "code",
      "source": [
        "info_empresa, info_socios = text.split('SÓCIO', 1)"
      ],
      "metadata": {
        "id": "u9o7odpRXye4"
      },
      "execution_count": 6,
      "outputs": []
    },
    {
      "cell_type": "code",
      "source": [
        "print(info_empresa) #perfeito"
      ],
      "metadata": {
        "colab": {
          "base_uri": "https://localhost:8080/"
        },
        "id": "0vln9RHwYNB0",
        "outputId": "9cb00ef6-1fdd-4692-f51e-2073fe52aba7"
      },
      "execution_count": 7,
      "outputs": [
        {
          "output_type": "stream",
          "name": "stdout",
          "text": [
            "CERTIFICAMOS QUE AS INFORMAÇÕES ABAIXO CONSTAM DOS DOCUMENTOS ARQUIVADOS NESTA JUNTA COMERCIAL E SÃO VIGENTESNA DATA DE SUA EXPEDIÇÃO. SE HOUVER ARQUIVAMENTOS POSTERIORES, ESTA CERTIDÃO PERDERÁ SUA VALIDADE. A AUTENTICIDADE DESTA CERTIDÃO E A EXISTÊNCIA DE ARQUIVAMENTOS POSTERIORES, SE HOUVER, PODERÃO SER CONSULTADAS NOSITE WWW.JUCESPONLINE.SP.GOV.BR, MEDIANTE O CÓDIGO DE AUTENTICIDADE INFORMADO AO FINAL DO DOCUMENTO. EMPRESANIRE 35211820431REGISTRO DATA DA CONSTITUIÇÃO 10/09/1993INÍCIO DAS ATIVIDADES 24/08/1993PRAZO DE DURAÇÃO NOME COMERCIAL NESS PROCESSOS E TECNOLOGIA LTDA.TIPO JURÍDICO SOCIEDADE LIMITADAC.N.P.J. 72.027.097/0001-37ENDEREÇO RUA DOUTOR GERALDO CAMPOS MOREIRANÚMERO 240COMPLEMENTO ANDAR 14BAIRRO CIDADE MONCOESMUNICÍPIO SAO PAULOUF SPCEP 04571-020MOEDA R$      VALOR CAPITAL 681.400,00OBJETO SOCIALSUPORTE TÉCNICO, MANUTENÇÃO E OUTROS SERVIÇOS EM TECNOLOGIA DA INFORMAÇÃOCOMÉRCIO ATACADISTA DE EQUIPAMENTOS DE INFORMÁTICACOMÉRCIO VAREJISTA ESPECIALIZADO DE EQUIPAMENTOS DE TELEFONIA E COMUNICAÇÃOALUGUEL DE MÁQUINAS E EQUIPAMENTOS PARA ESCRITÓRIOCONSULTORIA EM TECNOLOGIA DA INFORMAÇÃOEXISTEM OUTRAS ATIVIDADES\n"
          ]
        }
      ]
    },
    {
      "cell_type": "code",
      "source": [
        "print(info_socios)"
      ],
      "metadata": {
        "colab": {
          "base_uri": "https://localhost:8080/"
        },
        "id": "vPINUnIKYWXo",
        "outputId": "8b05c5f6-16c0-4fbd-b374-106d3449f1d5"
      },
      "execution_count": 8,
      "outputs": [
        {
          "output_type": "stream",
          "name": "stdout",
          "text": [
            "NOME CAMILA FENERICH LUCRIENDEREÇO RUA PADRE CALDAS BARBOSANÚMERO 155COMPLEMENTO APTO 1702BAIRRO VILA GUILHERMEMUNICÍPIO SAO PAULOUF SPCEP 02055-050RG 278304187CPF 292.933.038-41CARGO SÓCIOQUANTIDADE COTAS 27.254,00SÓCIONOME DANIEL AJZENENDEREÇO AVENIDA ALBERT BARTHOLOMENÚMERO 172COMPLEMENTO BL A FL AP78BAIRRO JARDIM DAS VERTENTEMUNICÍPIO SAO PAULOUF SPCEP 05541-000RG 34893002CPF 312.042.418-80CARGO SÓCIOQUANTIDADE COTAS 1,00SÓCIONOME Página 1 de 4Documento GratuitoProibida a ComercializaçãoGOVERNO DO ESTADO DE SÃO PAULOSECRETARIA DE DESENVOLVIMENTO ECONÔMICOJUNTA COMERCIAL DO ESTADO DE SÃO PAULO  CERTIDÃO SIMPLIFICADA\fFERNANDO DIAS RIBEIROENDEREÇO AVENIDA MOFARREJNÚMERO 346COMPLEMENTO BAIRRO VILA LEOPOLDINAMUNICÍPIO SAO PAULOUF SPCEP 05311-000RG 261182031CPF 212.551.148-78CARGO SÓCIOQUANTIDADE COTAS 27.254,00SÓCIONOME JLCOELHO TECNOLOGIA, OPERACOES E PARTICIPACOES LTDAENDEREÇO RUA OLIMPIADASNÚMERO 205COMPLEMENTO BAIRRO VILA OLIMPIAMUNICÍPIO SAO PAULOUF SPCEP 04551-000NIRE 35228421402CARGO SÓCIOQUANTIDADE COTAS 68.143,00SÓCIONOME MARCOS VENICIUS DOS SANTOS SILVAENDEREÇO AVENIDA ROUXINOLNÚMERO 174COMPLEMENTO APTO. 81BAIRRO INDIANOPOLISMUNICÍPIO SAO PAULOUF SPCEP 04516-000RG 5692015CPF 904.230.032-91CARGO SÓCIOQUANTIDADE COTAS 1,00SÓCIONOME MONICA BARBOSA YOSHIDAENDEREÇO AVENIDA RAMALHO ORTIGAONÚMERO 374COMPLEMENTO APT. 151BAIRRO VILA GUMERCINDOMUNICÍPIO SAO PAULOUF SPCEP 04130-010RG 10869837CPF 065.924.278-84CARGO SÓCIOQUANTIDADE COTAS 1,00SÓCIO E ADMINISTRADORNOME RICARDO ESPERENDEREÇO RUA BARAO DE CAMPOS GERAISNÚMERO 133COMPLEMENTO BAIRRO REAL PARQUEMUNICÍPIO SAO PAULOUF SPCEP 05684-000RG 155575375CPF 073.612.518-38CARGO SÓCIO E ADMINISTRADORQUANTIDADE COTAS 422.470,00Página 2 de 4Documento GratuitoProibida a ComercializaçãoGOVERNO DO ESTADO DE SÃO PAULOSECRETARIA DE DESENVOLVIMENTO ECONÔMICOJUNTA COMERCIAL DO ESTADO DE SÃO PAULO  CERTIDÃO SIMPLIFICADA\fSÓCIO E ADMINISTRADORNOME ROGERIO SALERNOENDEREÇO AL DOS GUATASNÚMERO 1341COMPLEMENTO BAIRRO PLANALTO PAULISTAMUNICÍPIO SAO PAULOUF SPCEP 04053-043CPF 099.869.908-07CARGO SÓCIO E ADMINISTRADORQUANTIDADE COTAS 136.275,00SÓCIONOME THIAGO BERTUZZI PACIENCIAENDEREÇO RUA RIO VERDENÚMERO 879COMPLEMENTO APTO 34BAIRRO VILA BRUNAMUNICÍPIO SAO PAULOUF SPCEP 02934-001RG 415779170CPF 229.877.158-89CARGO SÓCIOQUANTIDADE COTAS 1,00FILIAISNIRE 33999300706CNPJ ENDEREÇO PRAIA DO BOTAFOGO,16 ANDAR,NÚMERO 228COMPLEMENTO SALA 1601BAIRRO BOTAFOGOMUNICÍPIO RIO DE JANEIROUF RJCEP 22250-145ÚLTIMO DOCUMENTO ARQUIVADODATA 14/09/2023NÚMERO 365.915/23-3ALTERACAO DE SOCIOS/TITULAR/DIRETORIA: , DATADA DE: 13/06/2023.ALTERAÇÃO DOS DADOS CADASTRAIS DE CAMILA FENERICH LUCRI, NACIONALIDADE BRASILEIRA, RAÇA/COR: NÃODECLARADA, CPF: 292.933.038-41, RG/RNE: 27830418-7 - SP, RESIDENTE À RUA PADRE CALDAS BARBOSA, 155, APTO 1702,VILA GUILHERME, SAO PAULO - SP, CEP 02055-050, NA SITUAÇÃO DE SÓCIO, COM VALOR DE PARTICIPAÇÃO NA SOCIEDADEDE $ 27.254,00.REMANESCENTE MONICA BARBOSA YOSHIDA, NACIONALIDADE BRASILEIRA, RAÇA/COR: NÃO DECLARADA, CPF: 065.924.278-84, RG/RNE: 1086983-7 - SP, RESIDENTE À AVENIDA RAMALHO ORTIGAO, 374, APT. 151, VILA GUMERCINDO, SAO PAULO - SP,CEP 04130-010, NA SITUAÇÃO DE SÓCIO, COM VALOR DE PARTICIPAÇÃO NA SOCIEDADE DE $ 1,00.REMANESCENTE DANIEL AJZEN, NACIONALIDADE BRASILEIRA, RAÇA/COR: NÃO DECLARADA, CPF: 312.042.418-80, RG/RNE:3489300-2 - SP, RESIDENTE À AVENIDA ALBERT BARTHOLOME, 172, BL A FL AP78, JARDIM DAS VERTENTE, SAO PAULO - SP,CEP 05541-000, NA SITUAÇÃO DE SÓCIO, COM VALOR DE PARTICIPAÇÃO NA SOCIEDADE DE $ 1,00.REMANESCENTE MARCOS VENICIUS DOS SANTOS SILVA, NACIONALIDADE BRASILEIRA, RAÇA/COR: BRANCA, CPF:904.230.032-91, RG/RNE: 569201-5 - PA, RESIDENTE À AVENIDA ROUXINOL, 174, APTO. 81, INDIANOPOLIS, SAO PAULO - SP,Página 3 de 4Documento GratuitoProibida a ComercializaçãoGOVERNO DO ESTADO DE SÃO PAULOSECRETARIA DE DESENVOLVIMENTO ECONÔMICOJUNTA COMERCIAL DO ESTADO DE SÃO PAULO  CERTIDÃO SIMPLIFICADA\fCEP 04516-000, NA SITUAÇÃO DE SÓCIO, COM VALOR DE PARTICIPAÇÃO NA SOCIEDADE DE $ 1,00.REDISTRIBUICAO DO CAPITAL DE RICARDO ESPER, NACIONALIDADE BRASILEIRA, RAÇA/COR: NÃO DECLARADA, CPF:073.612.518-38, RG/RNE: 15557537-5 - SP, RESIDENTE À RUA BARAO DE CAMPOS GERAIS, 133, REAL PARQUE, SAO PAULO -SP, CEP 05684-000, NA SITUAÇÃO DE SÓCIO E ADMINISTRADOR, ASSINANDO PELA EMPRESA, COM VALOR DEPARTICIPAÇÃO NA SOCIEDADE DE $ 422.470,00.REMANESCENTE THIAGO BERTUZZI PACIENCIA, NACIONALIDADE BRASILEIRA, RAÇA/COR: NÃO DECLARADA., CPF:229.877.158-89, RG/RNE: 41577917-0 - SP, RESIDENTE À RUA RIO VERDE, 879, APTO 34, VILA BRUNA, SAO PAULO - SP, CEP02934-001, NA SITUAÇÃO DE SÓCIO, COM VALOR DE PARTICIPAÇÃO NA SOCIEDADE DE $ 1,00.RETIRA-SE DA SOCIEDADE JOSE LEOVIGILDO DE MELO COELHO FILHO, NACIONALIDADE BRASILEIRA, RAÇA/COR: NÃODECLARADA., CPF: 037.987.744-98, RG/RNE: 55157000-3 - PE, RESIDENTE À RUA MINISTRO JESUINO CARDOSO, 82, APTO 11,VILA NOVA CONCEICAO, SAO PAULO - SP, CEP 04544-050, REPRESENTANDO JLCOELHO TECNOLOGIA, OPERACOES EPARTICIPACOES LTDA, COMO ADMINISTRADOR, ASSINANDO PELA EMPRESA.REMANESCENTE ROGERIO SALERNO, NACIONALIDADE BRASILEIRA, RAÇA/COR: NÃO DECLARADA., CPF: 099.869.908-07,RESIDENTE À AL DOS GUATAS, 1341, PLANALTO PAULISTA, SAO PAULO - SP, CEP 04053-043, NA SITUAÇÃO DE SÓCIO EADMINISTRADOR, ASSINANDO PELA EMPRESA, COM VALOR DE PARTICIPAÇÃO NA SOCIEDADE DE $ 136.275,00.REDISTRIBUICAO DO CAPITAL DE JLCOELHO TECNOLOGIA, OPERACOES E PARTICIPACOES LTDA , NIRE 35228421402,SITUADA À RUA OLIMPIADAS, 205, VILA OLIMPIA, SAO PAULO - SP, CEP 04551-000, NA SITUAÇÃO DE SÓCIO, COM VALOR DEPARTICIPAÇÃO NA SOCIEDADE DE $ 68.143,00.REMANESCENTE FERNANDO DIAS RIBEIRO, NACIONALIDADE BRASILEIRA, RAÇA/COR: NÃO DECLARADA., CPF: 212.551.148-78, RG/RNE: 261182031, RESIDENTE À AVENIDA MOFARREJ, 346, VILA LEOPOLDINA, SAO PAULO - SP, CEP 05311-000, NASITUAÇÃO DE SÓCIO, COM VALOR DE PARTICIPAÇÃO NA SOCIEDADE DE $ 27.254,00.ALTERAÇÃO DE OUTRAS CLAÚSULAS CONTRATUAIS/ESTATUTÁRIAS: ALTERAR A REDACAO DA CLAUSULA TERCEIRA EALTERAR A REDACAO DA CLAUSULA QUARTA DO CONTRATO SOCIALFIM DAS INFORMAÇÕES PARA NIRE: 35211820431DATA DA ÚLTIMA ATUALIZAÇÃO DA BASE DE DADOS: 17/11/2023Certidão Simplificada. Documento certificado por MARIA CRISTINA FREI, Secretária Geral da Jucesp. A JuntaComercial do Estado de São Paulo, garante a autenticidade deste documento quando visualizado diretamente no portalwww.jucesponline.sp.gov.br sob o número de autenticidade 224966519, sábado, 18 de novembro de 2023 às 01:34:18.Página 4 de 4Documento GratuitoProibida a ComercializaçãoGOVERNO DO ESTADO DE SÃO PAULOSECRETARIA DE DESENVOLVIMENTO ECONÔMICOJUNTA COMERCIAL DO ESTADO DE SÃO PAULO  CERTIDÃO SIMPLIFICADA\f\n"
          ]
        }
      ]
    },
    {
      "cell_type": "code",
      "source": [
        "# Definindo o padrão de expressão regular\n",
        "padrao = r'NOME (.+?)\\s*ENDEREÇO.+?QUANTIDADE COTAS ([\\d,.]+)'"
      ],
      "metadata": {
        "id": "Yh5VGWUraRTe"
      },
      "execution_count": 18,
      "outputs": []
    },
    {
      "cell_type": "code",
      "source": [
        "# Encontrando todas as correspondências no texto\n",
        "correspondencias = re.findall(padrao, info_socios, re.DOTALL)"
      ],
      "metadata": {
        "id": "EUiBj6EvadsD"
      },
      "execution_count": 19,
      "outputs": []
    },
    {
      "cell_type": "code",
      "source": [
        "len(correspondencias)"
      ],
      "metadata": {
        "colab": {
          "base_uri": "https://localhost:8080/"
        },
        "id": "MkZl67TebB8H",
        "outputId": "aeb0ca62-aa8f-4a74-8873-f0d7ec97e141"
      },
      "execution_count": 20,
      "outputs": [
        {
          "output_type": "execute_result",
          "data": {
            "text/plain": [
              "9"
            ]
          },
          "metadata": {},
          "execution_count": 20
        }
      ]
    },
    {
      "cell_type": "code",
      "source": [
        "# Criando o array de chave e valor\n",
        "array_chave_valor = [{'chave': nome.strip(), 'valor': float(cotas.replace(',', '').replace('.', ''))} for nome, cotas in correspondencias]"
      ],
      "metadata": {
        "id": "CUf5aocJag6C"
      },
      "execution_count": 21,
      "outputs": []
    },
    {
      "cell_type": "code",
      "source": [
        "# Removendo os itens que começam com 'Página'\n",
        "array_chave_valor = [item for item in array_chave_valor if not item['chave'].startswith('Página')]"
      ],
      "metadata": {
        "id": "koEOvJVJeKOJ"
      },
      "execution_count": 23,
      "outputs": []
    },
    {
      "cell_type": "code",
      "source": [
        "print('Valor Capital: ', value)\n",
        "# Exibindo o resultado\n",
        "for item in array_chave_valor:\n",
        "    print(item)"
      ],
      "metadata": {
        "colab": {
          "base_uri": "https://localhost:8080/"
        },
        "id": "6afdximwasZf",
        "outputId": "ec741e13-83aa-45b4-8614-834f126271f9"
      },
      "execution_count": 27,
      "outputs": [
        {
          "output_type": "stream",
          "name": "stdout",
          "text": [
            "Valor Capital:  681400.0\n",
            "{'chave': 'CAMILA FENERICH LUCRI', 'valor': 2725400.0}\n",
            "{'chave': 'DANIEL AJZEN', 'valor': 100.0}\n",
            "{'chave': 'JLCOELHO TECNOLOGIA, OPERACOES E PARTICIPACOES LTDA', 'valor': 6814300.0}\n",
            "{'chave': 'MARCOS VENICIUS DOS SANTOS SILVA', 'valor': 100.0}\n",
            "{'chave': 'MONICA BARBOSA YOSHIDA', 'valor': 100.0}\n",
            "{'chave': 'RICARDO ESPER', 'valor': 42247000.0}\n",
            "{'chave': 'ROGERIO SALERNO', 'valor': 13627500.0}\n",
            "{'chave': 'THIAGO BERTUZZI PACIENCIA', 'valor': 100.0}\n"
          ]
        }
      ]
    }
  ]
}