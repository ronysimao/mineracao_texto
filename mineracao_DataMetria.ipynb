{
  "nbformat": 4,
  "nbformat_minor": 0,
  "metadata": {
    "colab": {
      "provenance": [],
      "authorship_tag": "ABX9TyNWDqGaovS3ss8g+yrz8N0U",
      "include_colab_link": true
    },
    "kernelspec": {
      "name": "python3",
      "display_name": "Python 3"
    },
    "language_info": {
      "name": "python"
    }
  },
  "cells": [
    {
      "cell_type": "markdown",
      "metadata": {
        "id": "view-in-github",
        "colab_type": "text"
      },
      "source": [
        "<a href=\"https://colab.research.google.com/github/ronysimao/mineracao_texto/blob/main/mineracao_DataMetria.ipynb\" target=\"_parent\"><img src=\"https://colab.research.google.com/assets/colab-badge.svg\" alt=\"Open In Colab\"/></a>"
      ]
    },
    {
      "cell_type": "markdown",
      "source": [
        "Parei aki [nlp com spaCy](https://youtu.be/dIUTsFT2MeQ?t=2210)\n",
        "\n",
        "[Vídeo do Zurubabel](https://www.youtube.com/watch?v=ltxxpNiSNag)\n",
        "\n",
        "Links interessante, em português\n",
        "\n",
        "*   https://www.youtube.com/watch?v=Vr9QXpELdrs\n",
        "*   https://medium.com/@van3ssabandeira/o-famoso-spacy-90afb683b6fe\n",
        "\n",
        "\n",
        "\n",
        "Site do cara: https://pythonhumanities.com/"
      ],
      "metadata": {
        "id": "Izr_aOXoW-Bi"
      }
    },
    {
      "cell_type": "code",
      "execution_count": 1,
      "metadata": {
        "colab": {
          "base_uri": "https://localhost:8080/"
        },
        "id": "lhTD2p9FKOPC",
        "outputId": "e482d0c2-b656-4fb0-fe9d-fbd7695e7efd"
      },
      "outputs": [
        {
          "output_type": "stream",
          "name": "stdout",
          "text": [
            "Requirement already satisfied: pip in /usr/local/lib/python3.10/dist-packages (23.3.2)\n",
            "Requirement already satisfied: setuptools in /usr/local/lib/python3.10/dist-packages (69.0.3)\n",
            "Requirement already satisfied: wheel in /usr/local/lib/python3.10/dist-packages (0.42.0)\n",
            "\u001b[33mWARNING: Running pip as the 'root' user can result in broken permissions and conflicting behaviour with the system package manager. It is recommended to use a virtual environment instead: https://pip.pypa.io/warnings/venv\u001b[0m\u001b[33m\n",
            "\u001b[0m"
          ]
        }
      ],
      "source": [
        "pip install -U pip setuptools wheel"
      ]
    },
    {
      "cell_type": "code",
      "source": [
        "pip install -U spacy"
      ],
      "metadata": {
        "colab": {
          "base_uri": "https://localhost:8080/"
        },
        "id": "PcJ4NiiMK1BG",
        "outputId": "762e15ac-2f80-4781-dfc7-f0824a1dfcc6"
      },
      "execution_count": 2,
      "outputs": [
        {
          "output_type": "stream",
          "name": "stdout",
          "text": [
            "Requirement already satisfied: spacy in /usr/local/lib/python3.10/dist-packages (3.7.2)\n",
            "Requirement already satisfied: spacy-legacy<3.1.0,>=3.0.11 in /usr/local/lib/python3.10/dist-packages (from spacy) (3.0.12)\n",
            "Requirement already satisfied: spacy-loggers<2.0.0,>=1.0.0 in /usr/local/lib/python3.10/dist-packages (from spacy) (1.0.5)\n",
            "Requirement already satisfied: murmurhash<1.1.0,>=0.28.0 in /usr/local/lib/python3.10/dist-packages (from spacy) (1.0.10)\n",
            "Requirement already satisfied: cymem<2.1.0,>=2.0.2 in /usr/local/lib/python3.10/dist-packages (from spacy) (2.0.8)\n",
            "Requirement already satisfied: preshed<3.1.0,>=3.0.2 in /usr/local/lib/python3.10/dist-packages (from spacy) (3.0.9)\n",
            "Requirement already satisfied: thinc<8.3.0,>=8.1.8 in /usr/local/lib/python3.10/dist-packages (from spacy) (8.1.12)\n",
            "Requirement already satisfied: wasabi<1.2.0,>=0.9.1 in /usr/local/lib/python3.10/dist-packages (from spacy) (1.1.2)\n",
            "Requirement already satisfied: srsly<3.0.0,>=2.4.3 in /usr/local/lib/python3.10/dist-packages (from spacy) (2.4.8)\n",
            "Requirement already satisfied: catalogue<2.1.0,>=2.0.6 in /usr/local/lib/python3.10/dist-packages (from spacy) (2.0.10)\n",
            "Requirement already satisfied: weasel<0.4.0,>=0.1.0 in /usr/local/lib/python3.10/dist-packages (from spacy) (0.3.4)\n",
            "Requirement already satisfied: typer<0.10.0,>=0.3.0 in /usr/local/lib/python3.10/dist-packages (from spacy) (0.9.0)\n",
            "Requirement already satisfied: smart-open<7.0.0,>=5.2.1 in /usr/local/lib/python3.10/dist-packages (from spacy) (6.4.0)\n",
            "Requirement already satisfied: tqdm<5.0.0,>=4.38.0 in /usr/local/lib/python3.10/dist-packages (from spacy) (4.66.1)\n",
            "Requirement already satisfied: requests<3.0.0,>=2.13.0 in /usr/local/lib/python3.10/dist-packages (from spacy) (2.31.0)\n",
            "Requirement already satisfied: pydantic!=1.8,!=1.8.1,<3.0.0,>=1.7.4 in /usr/local/lib/python3.10/dist-packages (from spacy) (1.10.13)\n",
            "Requirement already satisfied: jinja2 in /usr/local/lib/python3.10/dist-packages (from spacy) (3.1.2)\n",
            "Requirement already satisfied: setuptools in /usr/local/lib/python3.10/dist-packages (from spacy) (69.0.3)\n",
            "Requirement already satisfied: packaging>=20.0 in /usr/local/lib/python3.10/dist-packages (from spacy) (23.2)\n",
            "Requirement already satisfied: langcodes<4.0.0,>=3.2.0 in /usr/local/lib/python3.10/dist-packages (from spacy) (3.3.0)\n",
            "Requirement already satisfied: numpy>=1.19.0 in /usr/local/lib/python3.10/dist-packages (from spacy) (1.23.5)\n",
            "Requirement already satisfied: typing-extensions>=4.2.0 in /usr/local/lib/python3.10/dist-packages (from pydantic!=1.8,!=1.8.1,<3.0.0,>=1.7.4->spacy) (4.5.0)\n",
            "Requirement already satisfied: charset-normalizer<4,>=2 in /usr/local/lib/python3.10/dist-packages (from requests<3.0.0,>=2.13.0->spacy) (3.3.2)\n",
            "Requirement already satisfied: idna<4,>=2.5 in /usr/local/lib/python3.10/dist-packages (from requests<3.0.0,>=2.13.0->spacy) (3.6)\n",
            "Requirement already satisfied: urllib3<3,>=1.21.1 in /usr/local/lib/python3.10/dist-packages (from requests<3.0.0,>=2.13.0->spacy) (2.0.7)\n",
            "Requirement already satisfied: certifi>=2017.4.17 in /usr/local/lib/python3.10/dist-packages (from requests<3.0.0,>=2.13.0->spacy) (2023.11.17)\n",
            "Requirement already satisfied: blis<0.8.0,>=0.7.8 in /usr/local/lib/python3.10/dist-packages (from thinc<8.3.0,>=8.1.8->spacy) (0.7.11)\n",
            "Requirement already satisfied: confection<1.0.0,>=0.0.1 in /usr/local/lib/python3.10/dist-packages (from thinc<8.3.0,>=8.1.8->spacy) (0.1.4)\n",
            "Requirement already satisfied: click<9.0.0,>=7.1.1 in /usr/local/lib/python3.10/dist-packages (from typer<0.10.0,>=0.3.0->spacy) (8.1.7)\n",
            "Requirement already satisfied: cloudpathlib<0.17.0,>=0.7.0 in /usr/local/lib/python3.10/dist-packages (from weasel<0.4.0,>=0.1.0->spacy) (0.16.0)\n",
            "Requirement already satisfied: MarkupSafe>=2.0 in /usr/local/lib/python3.10/dist-packages (from jinja2->spacy) (2.1.3)\n",
            "\u001b[33mWARNING: Running pip as the 'root' user can result in broken permissions and conflicting behaviour with the system package manager. It is recommended to use a virtual environment instead: https://pip.pypa.io/warnings/venv\u001b[0m\u001b[33m\n",
            "\u001b[0m"
          ]
        }
      ]
    },
    {
      "cell_type": "code",
      "source": [
        "!python -m spacy download pt_core_news_sm"
      ],
      "metadata": {
        "colab": {
          "base_uri": "https://localhost:8080/"
        },
        "id": "YkoguAdWK_KR",
        "outputId": "a4e6d000-4e04-444b-fd18-0c6810c921d5"
      },
      "execution_count": 3,
      "outputs": [
        {
          "output_type": "stream",
          "name": "stdout",
          "text": [
            "2023-12-28 11:26:12.876559: E external/local_xla/xla/stream_executor/cuda/cuda_dnn.cc:9261] Unable to register cuDNN factory: Attempting to register factory for plugin cuDNN when one has already been registered\n",
            "2023-12-28 11:26:12.876664: E external/local_xla/xla/stream_executor/cuda/cuda_fft.cc:607] Unable to register cuFFT factory: Attempting to register factory for plugin cuFFT when one has already been registered\n",
            "2023-12-28 11:26:12.882387: E external/local_xla/xla/stream_executor/cuda/cuda_blas.cc:1515] Unable to register cuBLAS factory: Attempting to register factory for plugin cuBLAS when one has already been registered\n",
            "2023-12-28 11:26:12.927916: I tensorflow/core/platform/cpu_feature_guard.cc:182] This TensorFlow binary is optimized to use available CPU instructions in performance-critical operations.\n",
            "To enable the following instructions: AVX2 FMA, in other operations, rebuild TensorFlow with the appropriate compiler flags.\n",
            "2023-12-28 11:26:17.310612: W tensorflow/compiler/tf2tensorrt/utils/py_utils.cc:38] TF-TRT Warning: Could not find TensorRT\n",
            "Collecting pt-core-news-sm==3.7.0\n",
            "  Downloading https://github.com/explosion/spacy-models/releases/download/pt_core_news_sm-3.7.0/pt_core_news_sm-3.7.0-py3-none-any.whl (13.0 MB)\n",
            "\u001b[2K     \u001b[90m━━━━━━━━━━━━━━━━━━━━━━━━━━━━━━━━━━━━━━━━\u001b[0m \u001b[32m13.0/13.0 MB\u001b[0m \u001b[31m27.2 MB/s\u001b[0m eta \u001b[36m0:00:00\u001b[0m\n",
            "\u001b[?25hRequirement already satisfied: spacy<3.8.0,>=3.7.0 in /usr/local/lib/python3.10/dist-packages (from pt-core-news-sm==3.7.0) (3.7.2)\n",
            "Requirement already satisfied: spacy-legacy<3.1.0,>=3.0.11 in /usr/local/lib/python3.10/dist-packages (from spacy<3.8.0,>=3.7.0->pt-core-news-sm==3.7.0) (3.0.12)\n",
            "Requirement already satisfied: spacy-loggers<2.0.0,>=1.0.0 in /usr/local/lib/python3.10/dist-packages (from spacy<3.8.0,>=3.7.0->pt-core-news-sm==3.7.0) (1.0.5)\n",
            "Requirement already satisfied: murmurhash<1.1.0,>=0.28.0 in /usr/local/lib/python3.10/dist-packages (from spacy<3.8.0,>=3.7.0->pt-core-news-sm==3.7.0) (1.0.10)\n",
            "Requirement already satisfied: cymem<2.1.0,>=2.0.2 in /usr/local/lib/python3.10/dist-packages (from spacy<3.8.0,>=3.7.0->pt-core-news-sm==3.7.0) (2.0.8)\n",
            "Requirement already satisfied: preshed<3.1.0,>=3.0.2 in /usr/local/lib/python3.10/dist-packages (from spacy<3.8.0,>=3.7.0->pt-core-news-sm==3.7.0) (3.0.9)\n",
            "Requirement already satisfied: thinc<8.3.0,>=8.1.8 in /usr/local/lib/python3.10/dist-packages (from spacy<3.8.0,>=3.7.0->pt-core-news-sm==3.7.0) (8.1.12)\n",
            "Requirement already satisfied: wasabi<1.2.0,>=0.9.1 in /usr/local/lib/python3.10/dist-packages (from spacy<3.8.0,>=3.7.0->pt-core-news-sm==3.7.0) (1.1.2)\n",
            "Requirement already satisfied: srsly<3.0.0,>=2.4.3 in /usr/local/lib/python3.10/dist-packages (from spacy<3.8.0,>=3.7.0->pt-core-news-sm==3.7.0) (2.4.8)\n",
            "Requirement already satisfied: catalogue<2.1.0,>=2.0.6 in /usr/local/lib/python3.10/dist-packages (from spacy<3.8.0,>=3.7.0->pt-core-news-sm==3.7.0) (2.0.10)\n",
            "Requirement already satisfied: weasel<0.4.0,>=0.1.0 in /usr/local/lib/python3.10/dist-packages (from spacy<3.8.0,>=3.7.0->pt-core-news-sm==3.7.0) (0.3.4)\n",
            "Requirement already satisfied: typer<0.10.0,>=0.3.0 in /usr/local/lib/python3.10/dist-packages (from spacy<3.8.0,>=3.7.0->pt-core-news-sm==3.7.0) (0.9.0)\n",
            "Requirement already satisfied: smart-open<7.0.0,>=5.2.1 in /usr/local/lib/python3.10/dist-packages (from spacy<3.8.0,>=3.7.0->pt-core-news-sm==3.7.0) (6.4.0)\n",
            "Requirement already satisfied: tqdm<5.0.0,>=4.38.0 in /usr/local/lib/python3.10/dist-packages (from spacy<3.8.0,>=3.7.0->pt-core-news-sm==3.7.0) (4.66.1)\n",
            "Requirement already satisfied: requests<3.0.0,>=2.13.0 in /usr/local/lib/python3.10/dist-packages (from spacy<3.8.0,>=3.7.0->pt-core-news-sm==3.7.0) (2.31.0)\n",
            "Requirement already satisfied: pydantic!=1.8,!=1.8.1,<3.0.0,>=1.7.4 in /usr/local/lib/python3.10/dist-packages (from spacy<3.8.0,>=3.7.0->pt-core-news-sm==3.7.0) (1.10.13)\n",
            "Requirement already satisfied: jinja2 in /usr/local/lib/python3.10/dist-packages (from spacy<3.8.0,>=3.7.0->pt-core-news-sm==3.7.0) (3.1.2)\n",
            "Requirement already satisfied: setuptools in /usr/local/lib/python3.10/dist-packages (from spacy<3.8.0,>=3.7.0->pt-core-news-sm==3.7.0) (69.0.3)\n",
            "Requirement already satisfied: packaging>=20.0 in /usr/local/lib/python3.10/dist-packages (from spacy<3.8.0,>=3.7.0->pt-core-news-sm==3.7.0) (23.2)\n",
            "Requirement already satisfied: langcodes<4.0.0,>=3.2.0 in /usr/local/lib/python3.10/dist-packages (from spacy<3.8.0,>=3.7.0->pt-core-news-sm==3.7.0) (3.3.0)\n",
            "Requirement already satisfied: numpy>=1.19.0 in /usr/local/lib/python3.10/dist-packages (from spacy<3.8.0,>=3.7.0->pt-core-news-sm==3.7.0) (1.23.5)\n",
            "Requirement already satisfied: typing-extensions>=4.2.0 in /usr/local/lib/python3.10/dist-packages (from pydantic!=1.8,!=1.8.1,<3.0.0,>=1.7.4->spacy<3.8.0,>=3.7.0->pt-core-news-sm==3.7.0) (4.5.0)\n",
            "Requirement already satisfied: charset-normalizer<4,>=2 in /usr/local/lib/python3.10/dist-packages (from requests<3.0.0,>=2.13.0->spacy<3.8.0,>=3.7.0->pt-core-news-sm==3.7.0) (3.3.2)\n",
            "Requirement already satisfied: idna<4,>=2.5 in /usr/local/lib/python3.10/dist-packages (from requests<3.0.0,>=2.13.0->spacy<3.8.0,>=3.7.0->pt-core-news-sm==3.7.0) (3.6)\n",
            "Requirement already satisfied: urllib3<3,>=1.21.1 in /usr/local/lib/python3.10/dist-packages (from requests<3.0.0,>=2.13.0->spacy<3.8.0,>=3.7.0->pt-core-news-sm==3.7.0) (2.0.7)\n",
            "Requirement already satisfied: certifi>=2017.4.17 in /usr/local/lib/python3.10/dist-packages (from requests<3.0.0,>=2.13.0->spacy<3.8.0,>=3.7.0->pt-core-news-sm==3.7.0) (2023.11.17)\n",
            "Requirement already satisfied: blis<0.8.0,>=0.7.8 in /usr/local/lib/python3.10/dist-packages (from thinc<8.3.0,>=8.1.8->spacy<3.8.0,>=3.7.0->pt-core-news-sm==3.7.0) (0.7.11)\n",
            "Requirement already satisfied: confection<1.0.0,>=0.0.1 in /usr/local/lib/python3.10/dist-packages (from thinc<8.3.0,>=8.1.8->spacy<3.8.0,>=3.7.0->pt-core-news-sm==3.7.0) (0.1.4)\n",
            "Requirement already satisfied: click<9.0.0,>=7.1.1 in /usr/local/lib/python3.10/dist-packages (from typer<0.10.0,>=0.3.0->spacy<3.8.0,>=3.7.0->pt-core-news-sm==3.7.0) (8.1.7)\n",
            "Requirement already satisfied: cloudpathlib<0.17.0,>=0.7.0 in /usr/local/lib/python3.10/dist-packages (from weasel<0.4.0,>=0.1.0->spacy<3.8.0,>=3.7.0->pt-core-news-sm==3.7.0) (0.16.0)\n",
            "Requirement already satisfied: MarkupSafe>=2.0 in /usr/local/lib/python3.10/dist-packages (from jinja2->spacy<3.8.0,>=3.7.0->pt-core-news-sm==3.7.0) (2.1.3)\n",
            "Installing collected packages: pt-core-news-sm\n",
            "  Attempting uninstall: pt-core-news-sm\n",
            "    Found existing installation: pt-core-news-sm 3.6.0\n",
            "    Uninstalling pt-core-news-sm-3.6.0:\n",
            "      Successfully uninstalled pt-core-news-sm-3.6.0\n",
            "Successfully installed pt-core-news-sm-3.7.0\n",
            "\u001b[33mWARNING: Running pip as the 'root' user can result in broken permissions and conflicting behaviour with the system package manager. It is recommended to use a virtual environment instead: https://pip.pypa.io/warnings/venv\u001b[0m\u001b[33m\n",
            "\u001b[0m\u001b[38;5;2m✔ Download and installation successful\u001b[0m\n",
            "You can now load the package via spacy.load('pt_core_news_sm')\n"
          ]
        }
      ]
    },
    {
      "cell_type": "code",
      "source": [
        "import spacy\n",
        "from spacy.lang.pt.examples import sentences"
      ],
      "metadata": {
        "id": "IURy4-2JLA1D"
      },
      "execution_count": 31,
      "outputs": []
    },
    {
      "cell_type": "code",
      "source": [
        "nlp = spacy.load(\"pt_core_news_sm\")"
      ],
      "metadata": {
        "id": "HMuD0zT4L9jy"
      },
      "execution_count": 5,
      "outputs": []
    },
    {
      "cell_type": "markdown",
      "source": [
        "o código abaixo eu incluí por conta própria, para testar as stopwords em portugês\n",
        "[iaexpert.academy - erro ao fazer o comando do spaCy](https://iaexpert.academy/forums/topic/erro-ao-fazer-o-camando-spacy-loadpt/?doing_wp_cron=1703762943.2327001094818115234375)"
      ],
      "metadata": {
        "id": "dUzEdjAdMKKM"
      }
    },
    {
      "cell_type": "code",
      "source": [
        "stopwords = nlp.Defaults.stop_words"
      ],
      "metadata": {
        "id": "_5P96n39MRBg"
      },
      "execution_count": 24,
      "outputs": []
    },
    {
      "cell_type": "code",
      "source": [
        "with open(\"data/Infracommerce.txt\", \"r\") as f:\n",
        "  text = f.read()"
      ],
      "metadata": {
        "id": "QDZuoLVUOuXx"
      },
      "execution_count": 30,
      "outputs": []
    },
    {
      "cell_type": "code",
      "source": [
        "print(type(text))"
      ],
      "metadata": {
        "colab": {
          "base_uri": "https://localhost:8080/"
        },
        "id": "d5FF4SSmSBUd",
        "outputId": "07fdd7d8-db96-4fe1-c5c5-6216e092de81"
      },
      "execution_count": 27,
      "outputs": [
        {
          "output_type": "stream",
          "name": "stdout",
          "text": [
            "<class 'str'>\n"
          ]
        }
      ]
    },
    {
      "cell_type": "code",
      "source": [
        "doc = nlp(text)"
      ],
      "metadata": {
        "id": "fi91A1TTS29G"
      },
      "execution_count": 8,
      "outputs": []
    },
    {
      "cell_type": "code",
      "source": [
        "print(doc)"
      ],
      "metadata": {
        "colab": {
          "base_uri": "https://localhost:8080/"
        },
        "id": "eCE-P_P4TDNV",
        "outputId": "bf88faef-a259-4762-efeb-d3c64b98d600"
      },
      "execution_count": 9,
      "outputs": [
        {
          "output_type": "stream",
          "name": "stdout",
          "text": [
            "﻿Vivendo um período conturbado desde 2022, a Infracommerce emplacou a sua oferta subsequente de ações e levantou R$ 400 milhões para melhorar sua estrutura de capital e realizar o pagamento de aquisições recentes.A companhia informou nesta sexta-feira, 15 de dezembro, ter emitido 250 milhões de ações ordinárias a R$ 1,60 a unidade. O valor representa um desconto de 5,3% em relação à cotação do pregão de quinta-feira, 14 de dezembro, com o montante emitido considerando a venda de lote adicional de 62,5 milhões de papéis.Ao NeoFeed, o fundador e CEO da Infracommerce, Kai Schoppen, diz que o follow on vem para ajudar a ajustar a rota depois de um “crescimento agressivo” desde o IPO, em maio de 2021, pautado por aquisições.“Éramos uma companhia com um patamar de faturamento perto de R$ 250 milhões e este ano, se pegar o faturamento do terceiro trimestre e anualizar, a gente passa de R$ 1 bilhão”, afirma. “E isso veio a um custo grande, esse crescimento agressivo.”A ideia é utilizar parte dos recursos para pagar aquisições, antecipando os pagamentos que faltam com a condição de que eles usem os recursos no aumento de capital.Os movimentos inorgânicos ajudaram a Infracommerce a ganhar escala, mas a integração e o pagamento delas pesou sobre o balanço da companhia, que vem de uma sequência de resultados ruins.A dívida líquida da companhia subiu 12% entre o segundo e o terceiro trimestre, para R$ 473,2 milhões, em função do consumo de caixa com pagamentos de parcelas de M&As. Considerando os pagamentos remanescentes, a dívida líquida totaliza R$ 608,3 milhões.Segundo Schoppen, as compras foram feitas via dívida, com parte dos pagamentos feitos aos donos dessas empresas sendo viabilizados através de empréstimos bancários, com algumas parcelas ainda pendentes.Ele conta que entre juros e cartas fianças, a Infracommerce tinha uma despesa extra de quase R$ 100 milhões no balanço. O CEO da Infracommerce diz que a operação vai permitir reduzir o endividamento líquido total da companhia em cerca de dois terços.“Estávamos sentindo um peso muito grande desses custos de dívida, que está tão pesada que afeta o nosso negócio, mesmo com a empresa crescendo”, diz ele. “Fizemos esse follow on para captar recursos e fazer frente a esses custos pesados.”Outro agravante para a situação da empresa foi a escalada da taxa de juros e a piora do cenário macroeconômico, que pesou sobre o segmento de e-commerce. No balanço do terceiro trimestre, a Infracommerce informou que tem feito ajustes para reduzir custos e aumentar a eficiência, vendo melhora na rentabilidade.No follow on, junto com a emissão de ações, a Infracommerce emitiu 83,3 milhões de bônus de subscrição, uma vantagem adicional aos participantes da operação. Para cada três ações subscritas, os investidores receberam um bônus, que dá o direito à subscrição de mais uma ação da empresa.A operação contou com a participação do Pátria Investimentos, que, via fundos, adquiriu 37,5 milhões de ações por R$ 60 milhões. Quem também atuou como investidor âncora foi a Compass Group, com a compra de 15,5 milhões de ações por R$ 24,8 milhões. A operação foi coordenada por Itaú BBA, Santander Brasil, UBS BB, BTG Pactual e ABC Brasil.Vendo a questão financeira encaminhada, Schoppen diz que a Infracommerce vai se concentrar em crescimento orgânico. Os recursos do follow on não serão utilizados para novos M&As.“Depois das aquisições, somos líderes em nove países da América Latina, com a junção de líderes de mercado do nosso modelo de negócios, e estamos fortes o suficiente para focar em crescimento orgânico”, diz.A Infracommerce fechou o terceiro trimestre com um prejuízo de R$ 52,4 milhões, uma diminuição de 28% em relação à perda registrada no mesmo período de 2022. A receita líquida subiu 35,2%, para R$ 290 milhões. O  Ebitda ajustado cresceu mais de 2,6 vezes, para R$ 65 milhões, com a margem avançando 10,9 pontos percentuais, para 22,4%.As ações da Infracommerce fecharam o pregão de hoje com queda de 8,28%, a R$ 1,55. No ano, elas acumulam queda de 58,2%, levando o valor de mercado a R$ 654,6 milhões.\n",
            "\n"
          ]
        }
      ]
    },
    {
      "cell_type": "code",
      "source": [
        "print(len(text))\n",
        "print(len(doc))"
      ],
      "metadata": {
        "colab": {
          "base_uri": "https://localhost:8080/"
        },
        "id": "9V1mmSC4TKWK",
        "outputId": "5da8a0f4-4e73-4dba-f423-5ec4d8827b84"
      },
      "execution_count": 10,
      "outputs": [
        {
          "output_type": "stream",
          "name": "stdout",
          "text": [
            "4093\n",
            "780\n"
          ]
        }
      ]
    },
    {
      "cell_type": "code",
      "source": [
        "for token in text[0:10]:\n",
        "  print(token)"
      ],
      "metadata": {
        "colab": {
          "base_uri": "https://localhost:8080/"
        },
        "id": "jpKgFG6qTUHp",
        "outputId": "36f1d9a5-dac8-457d-b897-f1d8bb45727a"
      },
      "execution_count": 11,
      "outputs": [
        {
          "output_type": "stream",
          "name": "stdout",
          "text": [
            "﻿\n",
            "V\n",
            "i\n",
            "v\n",
            "e\n",
            "n\n",
            "d\n",
            "o\n",
            " \n",
            "u\n"
          ]
        }
      ]
    },
    {
      "cell_type": "code",
      "source": [
        "for token in doc[0:10]:\n",
        "  print(token)"
      ],
      "metadata": {
        "colab": {
          "base_uri": "https://localhost:8080/"
        },
        "id": "ms3hOoy4TmhN",
        "outputId": "21fae468-e340-4980-899b-bf3320f7c2b5"
      },
      "execution_count": 12,
      "outputs": [
        {
          "output_type": "stream",
          "name": "stdout",
          "text": [
            "﻿Vivendo\n",
            "um\n",
            "período\n",
            "conturbado\n",
            "desde\n",
            "2022\n",
            ",\n",
            "a\n",
            "Infracommerce\n",
            "emplacou\n"
          ]
        }
      ]
    },
    {
      "cell_type": "code",
      "source": [
        "#aqui, https://youtu.be/dIUTsFT2MeQ?t=1631, se entendi bem ele está fazendo um split por espaços o que chega bem perto\n",
        "# do que o nlp + doc fez sozinho, via spaCy\n",
        "for token in text.split()[:10]:\n",
        "  print(token)"
      ],
      "metadata": {
        "colab": {
          "base_uri": "https://localhost:8080/"
        },
        "id": "aqB_FSvzT-uU",
        "outputId": "2b797656-07f4-41a6-a20f-45cfc0b47589"
      },
      "execution_count": 13,
      "outputs": [
        {
          "output_type": "stream",
          "name": "stdout",
          "text": [
            "﻿Vivendo\n",
            "um\n",
            "período\n",
            "conturbado\n",
            "desde\n",
            "2022,\n",
            "a\n",
            "Infracommerce\n",
            "emplacou\n",
            "a\n"
          ]
        }
      ]
    },
    {
      "cell_type": "code",
      "source": [
        "for sent in doc.sents:\n",
        "  print(sent)\n",
        "  print(len(sent))"
      ],
      "metadata": {
        "colab": {
          "base_uri": "https://localhost:8080/"
        },
        "id": "Fz2tVcETVDvH",
        "outputId": "3fb2e4ec-e933-40c4-ac76-4fb3239e9928"
      },
      "execution_count": 14,
      "outputs": [
        {
          "output_type": "stream",
          "name": "stdout",
          "text": [
            "﻿Vivendo um período conturbado desde 2022, a Infracommerce emplacou a sua oferta subsequente de ações e levantou R$ 400 milhões para melhorar sua estrutura de capital e realizar o pagamento de aquisições recentes.\n",
            "35\n",
            "A companhia informou nesta sexta-feira, 15 de dezembro, ter emitido 250 milhões de ações ordinárias a R$ 1,60 a unidade.\n",
            "23\n",
            "O valor representa um desconto de 5,3% em relação à cotação do pregão de quinta-feira, 14 de dezembro, com o montante emitido considerando a venda de lote adicional de 62,5 milhões de papéis.\n",
            "37\n",
            "Ao NeoFeed, o fundador e CEO da Infracommerce, Kai Schoppen, diz que o follow on vem para ajudar a ajustar a rota depois de um “crescimento agressivo” desde o IPO, em maio de 2021, pautado por aquisições.\n",
            "45\n",
            "“Éramos uma companhia com um patamar de faturamento perto de R$ 250 milhões e este ano, se pegar o faturamento do terceiro trimestre e anualizar, a gente passa de R$ 1 bilhão”, afirma.\n",
            "38\n",
            "“E isso veio a um custo grande, esse crescimento agressivo.\n",
            "13\n",
            "”A ideia é utilizar parte dos recursos para pagar aquisições, antecipando os pagamentos que faltam com a condição de que eles usem os recursos no aumento de capital.\n",
            "30\n",
            "Os movimentos inorgânicos ajudaram a Infracommerce a ganhar escala, mas a integração e o pagamento delas pesou sobre o balanço da companhia, que vem de uma sequência de resultados ruins.\n",
            "33\n",
            "A dívida líquida da companhia subiu 12% entre o segundo e o terceiro trimestre, para R$ 473,2 milhões, em função do consumo de caixa com pagamentos de parcelas de M&As.\n",
            "34\n",
            "Considerando os pagamentos remanescentes, a dívida líquida totaliza R$ 608,3 milhões.\n",
            "13\n",
            "Segundo Schoppen, as compras foram feitas via dívida, com parte dos pagamentos feitos aos donos dessas empresas sendo viabilizados através de empréstimos bancários, com algumas parcelas ainda pendentes.\n",
            "32\n",
            "Ele conta que entre juros e cartas fianças, a Infracommerce tinha uma despesa extra de quase R$ 100 milhões no balanço.\n",
            "23\n",
            "O CEO da Infracommerce diz que a operação vai permitir reduzir o endividamento líquido total da companhia em cerca de dois terços.\n",
            "23\n",
            "“Estávamos sentindo um peso muito grande desses custos de dívida, que está tão pesada que afeta o nosso negócio, mesmo com a empresa crescendo”, diz ele.\n",
            "31\n",
            "“Fizemos esse follow on para captar recursos e fazer frente a esses custos pesados.\n",
            "16\n",
            "”Outro agravante para a situação da empresa foi a escalada da taxa de juros e a piora do cenário macroeconômico, que pesou sobre o segmento de e-commerce.\n",
            "29\n",
            "No balanço do terceiro trimestre, a Infracommerce informou que tem feito ajustes para reduzir custos e aumentar a eficiência, vendo melhora na rentabilidade.\n",
            "26\n",
            "No follow on, junto com a emissão de ações, a Infracommerce emitiu 83,3 milhões de bônus de subscrição, uma vantagem adicional aos participantes da operação.\n",
            "29\n",
            "Para cada três ações subscritas, os investidores receberam um bônus, que dá o direito à subscrição de mais uma ação da empresa.\n",
            "25\n",
            "A operação contou com a participação do Pátria Investimentos, que, via fundos, adquiriu 37,5 milhões de ações por R$ 60 milhões.\n",
            "25\n",
            "Quem também atuou como investidor âncora foi a Compass Group, com a compra de 15,5 milhões de ações por R$ 24,8 milhões.\n",
            "24\n",
            "A operação foi coordenada por Itaú BBA, Santander Brasil, UBS BB, BTG Pactual e ABC Brasil.\n",
            "20\n",
            "Vendo a questão financeira encaminhada, Schoppen diz que a Infracommerce vai se concentrar em crescimento orgânico.\n",
            "18\n",
            "Os recursos do follow on não serão utilizados para novos M&As.\n",
            "12\n",
            "“Depois das aquisições, somos líderes em nove países da América Latina, com a junção de líderes de mercado do nosso modelo de negócios, e estamos fortes o suficiente para focar em crescimento orgânico”, diz.\n",
            "40\n",
            "A Infracommerce fechou o terceiro trimestre com um prejuízo de R$ 52,4 milhões, uma diminuição de 28% em relação à perda registrada no mesmo período de 2022.\n",
            "30\n",
            "A receita líquida subiu 35,2%, para R$ 290 milhões.\n",
            "12\n",
            "O  Ebitda ajustado cresceu mais de 2,6 vezes, para R$ 65 milhões, com a margem avançando 10,9 pontos percentuais, para 22,4%.As ações da Infracommerce fecharam o pregão de hoje com queda de 8,28%, a R$ 1,55.\n",
            "43\n",
            "No ano, elas acumulam queda de 58,2%, levando o valor de mercado a R$ 654,6 milhões.\n",
            "\n",
            "21\n"
          ]
        }
      ]
    },
    {
      "cell_type": "code",
      "source": [
        "#este ponto específico É para dar erro mesmo, pq o objeto \"generator\" (sejá lá o que for isso, estudar depois) não 'se printa'\n",
        "sentence1 = doc.sents[0]\n",
        "print(sentence1)"
      ],
      "metadata": {
        "colab": {
          "base_uri": "https://localhost:8080/",
          "height": 211
        },
        "id": "2M1A1waaWbeZ",
        "outputId": "52114ae6-58d0-4400-fb63-be221c58c63d"
      },
      "execution_count": 15,
      "outputs": [
        {
          "output_type": "error",
          "ename": "TypeError",
          "evalue": "ignored",
          "traceback": [
            "\u001b[0;31m---------------------------------------------------------------------------\u001b[0m",
            "\u001b[0;31mTypeError\u001b[0m                                 Traceback (most recent call last)",
            "\u001b[0;32m<ipython-input-15-bbfe1ba3d07b>\u001b[0m in \u001b[0;36m<cell line: 2>\u001b[0;34m()\u001b[0m\n\u001b[1;32m      1\u001b[0m \u001b[0;31m#este ponto específico É para dar erro mesmo, pq o objeto \"generator\" (sejá lá o que for isso, estudar depois) não 'se printa'\u001b[0m\u001b[0;34m\u001b[0m\u001b[0;34m\u001b[0m\u001b[0m\n\u001b[0;32m----> 2\u001b[0;31m \u001b[0msentence1\u001b[0m \u001b[0;34m=\u001b[0m \u001b[0mdoc\u001b[0m\u001b[0;34m.\u001b[0m\u001b[0msents\u001b[0m\u001b[0;34m[\u001b[0m\u001b[0;36m0\u001b[0m\u001b[0;34m]\u001b[0m\u001b[0;34m\u001b[0m\u001b[0;34m\u001b[0m\u001b[0m\n\u001b[0m\u001b[1;32m      3\u001b[0m \u001b[0mprint\u001b[0m\u001b[0;34m(\u001b[0m\u001b[0msentence1\u001b[0m\u001b[0;34m)\u001b[0m\u001b[0;34m\u001b[0m\u001b[0;34m\u001b[0m\u001b[0m\n",
            "\u001b[0;31mTypeError\u001b[0m: 'generator' object is not subscriptable"
          ]
        }
      ]
    },
    {
      "cell_type": "code",
      "source": [
        "#o correto é transformar numa lista e DEPOIS buscar o elemento que quer\n",
        "sentence1 = list(doc.sents)[0]\n",
        "print(sentence1)"
      ],
      "metadata": {
        "colab": {
          "base_uri": "https://localhost:8080/"
        },
        "id": "XHo3zGEIWuWu",
        "outputId": "775d3d1a-604d-4e04-fb79-27c9312f094d"
      },
      "execution_count": 16,
      "outputs": [
        {
          "output_type": "stream",
          "name": "stdout",
          "text": [
            "﻿Vivendo um período conturbado desde 2022, a Infracommerce emplacou a sua oferta subsequente de ações e levantou R$ 400 milhões para melhorar sua estrutura de capital e realizar o pagamento de aquisições recentes.\n"
          ]
        }
      ]
    },
    {
      "cell_type": "code",
      "source": [
        "for token in doc[:10]:\n",
        "  print (token)"
      ],
      "metadata": {
        "colab": {
          "base_uri": "https://localhost:8080/"
        },
        "id": "AWo9U6jfHmMh",
        "outputId": "040f99cb-6bb5-42af-a133-8cbd7c0edeeb"
      },
      "execution_count": 17,
      "outputs": [
        {
          "output_type": "stream",
          "name": "stdout",
          "text": [
            "﻿Vivendo\n",
            "um\n",
            "período\n",
            "conturbado\n",
            "desde\n",
            "2022\n",
            ",\n",
            "a\n",
            "Infracommerce\n",
            "emplacou\n"
          ]
        }
      ]
    },
    {
      "cell_type": "code",
      "source": [
        "token2 = sentence1[0]\n",
        "print (token2)"
      ],
      "metadata": {
        "colab": {
          "base_uri": "https://localhost:8080/"
        },
        "id": "K3iZ0K7XH1r6",
        "outputId": "2f1e5d94-9f05-4f9d-b83e-bd9e7bd152c1"
      },
      "execution_count": 33,
      "outputs": [
        {
          "output_type": "stream",
          "name": "stdout",
          "text": [
            "﻿Vivendo\n"
          ]
        }
      ]
    },
    {
      "cell_type": "code",
      "source": [
        "token2.text"
      ],
      "metadata": {
        "colab": {
          "base_uri": "https://localhost:8080/",
          "height": 35
        },
        "id": "4JqCsSG1IUwW",
        "outputId": "ea2cad19-138d-4500-9889-f34c174bf547"
      },
      "execution_count": 34,
      "outputs": [
        {
          "output_type": "execute_result",
          "data": {
            "text/plain": [
              "'\\ufeffVivendo'"
            ],
            "application/vnd.google.colaboratory.intrinsic+json": {
              "type": "string"
            }
          },
          "metadata": {},
          "execution_count": 34
        }
      ]
    },
    {
      "cell_type": "code",
      "source": [
        "#neste caso aqui, ele buscou o 'token' que estava imediatamente à esquerda do token que eu havia informado, incrível\n",
        "token2.left_edge"
      ],
      "metadata": {
        "colab": {
          "base_uri": "https://localhost:8080/"
        },
        "id": "apaClwC6Ih3e",
        "outputId": "7898e10e-9176-461c-8319-cf06865a0367"
      },
      "execution_count": 35,
      "outputs": [
        {
          "output_type": "execute_result",
          "data": {
            "text/plain": [
              "﻿Vivendo"
            ]
          },
          "metadata": {},
          "execution_count": 35
        }
      ]
    },
    {
      "cell_type": "markdown",
      "source": [
        "Não tenho a menor ideia do motivo pelo qual ele *pulou* descaradamente os tokens [conturbado, desde, 2022] pra depois chegar na \"vírgula\""
      ],
      "metadata": {
        "id": "3qyG9dx5JP2k"
      }
    },
    {
      "cell_type": "code",
      "source": [
        "token2.right_edge"
      ],
      "metadata": {
        "colab": {
          "base_uri": "https://localhost:8080/"
        },
        "id": "27dNF-P_JBAk",
        "outputId": "944ac97e-c239-41b9-de71-77561457d246"
      },
      "execution_count": 36,
      "outputs": [
        {
          "output_type": "execute_result",
          "data": {
            "text/plain": [
              ","
            ]
          },
          "metadata": {},
          "execution_count": 36
        }
      ]
    },
    {
      "cell_type": "code",
      "source": [
        "token2.ent_type"
      ],
      "metadata": {
        "colab": {
          "base_uri": "https://localhost:8080/"
        },
        "id": "cvQt12NHJu5O",
        "outputId": "89bcfc16-5405-4cd9-f29d-57e1efacc534"
      },
      "execution_count": 37,
      "outputs": [
        {
          "output_type": "execute_result",
          "data": {
            "text/plain": [
              "0"
            ]
          },
          "metadata": {},
          "execution_count": 37
        }
      ]
    },
    {
      "cell_type": "code",
      "source": [
        "token2.ent_type_"
      ],
      "metadata": {
        "colab": {
          "base_uri": "https://localhost:8080/",
          "height": 35
        },
        "id": "xIEtOVo_J1R6",
        "outputId": "bba6d55a-6ef5-45a5-bb64-2c7ae5239192"
      },
      "execution_count": 38,
      "outputs": [
        {
          "output_type": "execute_result",
          "data": {
            "text/plain": [
              "''"
            ],
            "application/vnd.google.colaboratory.intrinsic+json": {
              "type": "string"
            }
          },
          "metadata": {},
          "execution_count": 38
        }
      ]
    }
  ]
}